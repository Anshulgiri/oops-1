{
 "cells": [
  {
   "cell_type": "code",
   "execution_count": 3,
   "id": "2a13e826-bacd-4eeb-b454-b13c351854a6",
   "metadata": {},
   "outputs": [],
   "source": [
    "class bankaccount :\n",
    "    def openaccount(self,name,email_id):\n",
    "        print(\"open an account by taking name and mail id \")\n",
    "        return name+email_id\n",
    "    \n",
    "    def deposite(self,amount):\n",
    "        print(\"i am trying to deposite an amount in my amount\")\n",
    "        \n",
    "        \n",
    "    def withdraw(self,amt_with): \n",
    "        print(\"withdraw the amount\")\n",
    "        \n",
    "    \n",
    "    def update_details(self,name_update ,email_update):\n",
    "        print(\"this function will update my name and email id of account\")\n",
    "        "
   ]
  },
  {
   "cell_type": "code",
   "execution_count": 4,
   "id": "feb49a77-c475-48d2-956c-00eab61f9158",
   "metadata": {},
   "outputs": [],
   "source": [
    "anshul = bankaccount()"
   ]
  },
  {
   "cell_type": "code",
   "execution_count": 5,
   "id": "8be7c906-f377-4a10-9730-8f0c93b4799a",
   "metadata": {},
   "outputs": [
    {
     "name": "stdout",
     "output_type": "stream",
     "text": [
      "open an account by taking name and mail id \n"
     ]
    },
    {
     "data": {
      "text/plain": [
       "'anshulgirianshul2002@gmail.com'"
      ]
     },
     "execution_count": 5,
     "metadata": {},
     "output_type": "execute_result"
    }
   ],
   "source": [
    "anshul.openaccount(\"anshul\",\"girianshul2002@gmail.com\")"
   ]
  },
  {
   "cell_type": "code",
   "execution_count": 6,
   "id": "46d617ad-62b1-441b-8049-f6ba6bc2c12a",
   "metadata": {},
   "outputs": [
    {
     "name": "stdout",
     "output_type": "stream",
     "text": [
      "i am trying to deposite an amount in my amount\n"
     ]
    }
   ],
   "source": [
    "anshul.deposite(500)"
   ]
  },
  {
   "cell_type": "code",
   "execution_count": 7,
   "id": "adf16279-971a-410f-b099-e659580e8d4c",
   "metadata": {},
   "outputs": [
    {
     "name": "stdout",
     "output_type": "stream",
     "text": [
      "withdraw the amount\n"
     ]
    }
   ],
   "source": [
    "anshul.withdraw(1000)"
   ]
  },
  {
   "cell_type": "code",
   "execution_count": 15,
   "id": "f61206b3-a2a0-45bd-bccd-d465b4e434a1",
   "metadata": {},
   "outputs": [
    {
     "name": "stdout",
     "output_type": "stream",
     "text": [
      "Employee Name : Anshul ,salary: 5000\n",
      "Employee Name : Mohit ,salary: 8000\n"
     ]
    }
   ],
   "source": [
    "class Employee:\n",
    "    emptotal =0\n",
    "    \n",
    "    def __init__(self, name, salary):\n",
    "        self.name = name\n",
    "        self.salary = salary\n",
    "        Employee.emptotal += 1\n",
    "        \n",
    "    def displayCount(self):\n",
    "        print (\"Total No of Employee %d\"  % Employee.emptotal)\n",
    "        \n",
    "    def showEmployee(self):\n",
    "        print(\"Employee Name :\", self.name , \",salary:\", self.salary)\n",
    "        \n",
    "        \n",
    "empDetail1 = Employee(\"Anshul\", 5000)\n",
    "empDetail2= Employee(\"Mohit\", 8000)\n",
    "empDetail1.showEmployee()\n",
    "empDetail2.showEmployee()\n",
    "        "
   ]
  },
  {
   "cell_type": "code",
   "execution_count": 3,
   "id": "13deffc7-5a8e-4f9f-a6e9-7a5c29d83c2b",
   "metadata": {},
   "outputs": [
    {
     "name": "stdin",
     "output_type": "stream",
     "text": [
      "1 Display Stocks ,2 Rent a Bike,3 Exit 3\n"
     ]
    }
   ],
   "source": [
    "class bikeShop:\n",
    "    \n",
    "    def __int__(self, stock):\n",
    "        self.stock = stock\n",
    "        \n",
    "    def displayBike(self):\n",
    "        print(\"Total Bikes \",self.stock)\n",
    "        \n",
    "    def rentForBike(self,q):\n",
    "        \n",
    "        if q<=0:\n",
    "            print (\"Enter the positive value or greater than zero\")\n",
    "        elif q>self.stock:\n",
    "            print(\"Enter the value (less than stock)\")\n",
    "            \n",
    "        else:\n",
    "            print(\"Total Prices\",q*100)\n",
    "            print(\"Total Bikes\", self.stock)\n",
    "while True:\n",
    "    obj=bikeShop()\n",
    "    uc=int(input('''1 Display Stocks ,2 Rent a Bike,3 Exit'''))\n",
    "    \n",
    "    if uc==1:\n",
    "        obj.displayBike()\n",
    "    elif uc==2:\n",
    "        n=int(input(\"Enter the qty:---\"))\n",
    "        obj.rentForBike(n)\n",
    "    else:\n",
    "        break    \n",
    "    "
   ]
  },
  {
   "cell_type": "code",
   "execution_count": 7,
   "id": "9e321dd2-31a3-4151-993d-3072b2444eb5",
   "metadata": {},
   "outputs": [
    {
     "name": "stdout",
     "output_type": "stream",
     "text": [
      "the library has 1 books. The books are\n",
      "The Marigold\n"
     ]
    }
   ],
   "source": [
    "class library:\n",
    "    def __init__(self):\n",
    "        self.noBooks = 0\n",
    "        self.books = []\n",
    "        \n",
    "    def addBook(self, book):\n",
    "        self.books.append(book)\n",
    "        self.noBooks = len(self.books)\n",
    "        \n",
    "    def showInfo(self):\n",
    "        print(f\"the library has {self.noBooks} books. The books are\")\n",
    "        for book in self.books:\n",
    "            print(book)\n",
    "        \n",
    "l1 = library()\n",
    "l1.addBook(\"The Marigold\")\n",
    "l1.showInfo()\n",
    "        "
   ]
  },
  {
   "cell_type": "code",
   "execution_count": 1,
   "id": "7eff45d3-bc8a-4a4c-912f-974450944e1f",
   "metadata": {},
   "outputs": [
    {
     "name": "stdin",
     "output_type": "stream",
     "text": [
      "Enter the length of rectangle 10\n",
      "Enter the breadth of rectangle 6\n"
     ]
    },
    {
     "name": "stdout",
     "output_type": "stream",
     "text": [
      "Rectangle object details are:\n",
      "Length of rectangle is : 10\n",
      "Breadth of rectangle is : 6\n",
      "\n",
      "Area of Rectangle is : 60\n",
      "\n",
      "Perimeter of Rectangle is : 32\n"
     ]
    }
   ],
   "source": [
    "class Rectangle:\n",
    "    def __init__(self, length,breadth):\n",
    "        self.length = length\n",
    "        self.breadth = breadth\n",
    "        \n",
    "    def display(self):\n",
    "        print(\"Length of rectangle is :\", self.length)\n",
    "        print(\"Breadth of rectangle is :\", self.breadth)\n",
    "    \n",
    "    def area(self):\n",
    "        return (self.length*self.breadth)\n",
    "    \n",
    "    def perimeter(self):\n",
    "        return (2*self.length + 2*self.breadth)\n",
    "    \n",
    "l = int(input(\"Enter the length of rectangle\"))\n",
    "b = int(input(\"Enter the breadth of rectangle\"))\n",
    "\n",
    "r1 = Rectangle (l , b)\n",
    "print(\"Rectangle object details are:\")\n",
    "r1.display()\n",
    "print(\"\")\n",
    "print(\"Area of Rectangle is :\", r1.area())\n",
    "print(\"\")\n",
    "print(\"Perimeter of Rectangle is :\", r1.perimeter())\n",
    "\n",
    "    \n",
    "    \n",
    "    "
   ]
  },
  {
   "cell_type": "code",
   "execution_count": 2,
   "id": "2c850e0c-78de-4cc8-92b6-594f5b25d7d0",
   "metadata": {},
   "outputs": [
    {
     "name": "stdin",
     "output_type": "stream",
     "text": [
      "enter the roll number : 5\n",
      "enter the name:  Anshul\n",
      "enter the marks in first subject: 45\n",
      "enter the marks in second subject : 55\n",
      "enter the marks in third subject: 67\n"
     ]
    },
    {
     "name": "stdout",
     "output_type": "stream",
     "text": [
      "Roll Number : 5\n",
      "Name is : Anshul\n",
      "Marks are: [45, 55, 67]\n",
      "Total Marks are : 167\n"
     ]
    }
   ],
   "source": [
    "class student:\n",
    "    marks = []\n",
    "    \n",
    "    def getData(self, rn , name ,m1 , m2 , m3):\n",
    "        student.rn = rn\n",
    "        student.name = name\n",
    "        student.marks.append(m1)\n",
    "        student.marks.append(m2)\n",
    "        student.marks.append(m3)\n",
    "        \n",
    "    def displayData(self):\n",
    "        print(\"Roll Number :\", student.rn)\n",
    "        print(\"Name is :\" ,student.name)\n",
    "        print(\"Marks are:\", student.marks)\n",
    "        \n",
    "    def total(self):\n",
    "        return (student.marks[0] + student.marks[1] + student.marks[2])\n",
    "    \n",
    "r = int(input(\"enter the roll number :\"))\n",
    "name = input(\"enter the name: \")\n",
    "m1 = int(input(\"enter the marks in first subject:\"))\n",
    "m2 = int(input(\"enter the marks in second subject :\"))\n",
    "m3 = int(input(\"enter the marks in third subject:\"))\n",
    "\n",
    "s1= student()\n",
    "s1.getData(r , name , m1 , m2, m3)\n",
    "s1.displayData()\n",
    "print (\"Total Marks are :\" , s1.total())\n",
    "        \n",
    "        "
   ]
  },
  {
   "cell_type": "code",
   "execution_count": null,
   "id": "9a5a223c-c94d-40eb-9bc5-a10b1d31fa7a",
   "metadata": {},
   "outputs": [],
   "source": []
  }
 ],
 "metadata": {
  "kernelspec": {
   "display_name": "Python 3 (ipykernel)",
   "language": "python",
   "name": "python3"
  },
  "language_info": {
   "codemirror_mode": {
    "name": "ipython",
    "version": 3
   },
   "file_extension": ".py",
   "mimetype": "text/x-python",
   "name": "python",
   "nbconvert_exporter": "python",
   "pygments_lexer": "ipython3",
   "version": "3.10.8"
  }
 },
 "nbformat": 4,
 "nbformat_minor": 5
}
